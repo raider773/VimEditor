{
 "cells": [
  {
   "cell_type": "code",
   "execution_count": 1,
   "id": "663d2686-6322-4802-8974-ce1ab0bf43fa",
   "metadata": {
    "tags": []
   },
   "outputs": [],
   "source": [
    "import numpy as np\n",
    "import random\n",
    "import copy\n",
    "import uuid"
   ]
  },
  {
   "cell_type": "code",
   "execution_count": 2,
   "id": "92c6cd0c-60c6-4104-b22d-fefcb5890c58",
   "metadata": {},
   "outputs": [],
   "source": [
    "class Individual():    \n",
    "    def __init__(self,chromosome):   \n",
    "        self.chromosome = chromosome\n",
    "        self.first_gene = self.chromosome[0]\n",
    "        self.second_gene = self.chromosome[1]\n",
    "        self.third_gene = self.chromosome[2]\n",
    "        self.fourth_gene = self.chromosome[3]\n",
    "        self.fifth_gene = self.chromosome[4]\n",
    "        "
   ]
  },
  {
   "cell_type": "code",
   "execution_count": 3,
   "id": "34478b39-d02f-4751-ad28-4b71906dda52",
   "metadata": {},
   "outputs": [],
   "source": [
    "class GeneticAlgorithm():\n",
    "    def __init__(self,population_size,number_of_parents,crossover_method = \"simple\"):\n",
    "        self.chromosome_length = 5\n",
    "        self.attributes = {\"colour\":[\"Red\",\"Yellow\",\"Blue\",\"White\",\"Green\"],\n",
    "                          \"profession\":['Mathematician', 'Hacker', 'Analyst', 'Developer', 'Engineer'],\n",
    "                          \"languages\" : ['Python', 'Java', 'JavaScript', 'C#', 'Other'],\n",
    "                          \"databases\" : ['Redis', 'MongoDB', 'HBase', 'Cassandra', 'Neo4J'],\n",
    "                          \"editors\" : ['Vim', 'Brackets', 'Atom', 'Notepad++', 'Sublime_Text']\n",
    "                          }          \n",
    "        self.population_size = population_size        \n",
    "        self.population = self.create_initial_population()       \n",
    "        self.number_of_parents = number_of_parents  #no mas de pop size  \n",
    "        self.crossover_method = crossover_method\n",
    "        \n",
    "    def create_initial_population(self):\n",
    "        population = []\n",
    "        for n in range(self.population_size):\n",
    "            chromosome = self.fabricate_chromosome()\n",
    "            population.append(Individual(chromosome))\n",
    "        return population\n",
    "    \n",
    "    def aptitude_function(self,individual):        \n",
    "        score = 0\n",
    "        \n",
    "        #1 The Mathematician lives in the red house\n",
    "        for gene in individual.chromosome:    \n",
    "            score += gene[\"profession\"] == \"Mathematician\" and gene[\"colour\"] == \"Red\"        \n",
    "        \n",
    "        #2 The hacker programs in Python\n",
    "        for gene in individual.chromosome:    \n",
    "            score += (gene[\"profession\"] == \"Hacker\" and gene[\"languages\"] == \"Python\")\n",
    "            \n",
    "        #3 The Brackets is used in the green house\n",
    "        for gene in individual.chromosome:    \n",
    "            score += (gene[\"editors\"] == \"Brackets\" and gene[\"colour\"] == \"Green\")\n",
    "            \n",
    "        #4 The analyst uses Atom\n",
    "        for gene in individual.chromosome:    \n",
    "            score += (gene[\"profession\"] == \"Analyst\" and gene[\"editors\"] == \"Atom\")\n",
    "               \n",
    "        #5 The green house is to the right of the white house\n",
    "        colours = [i[\"colour\"] for i in individual.chromosome]  \n",
    "        for colour_index in range(len(colours)):\n",
    "            if colours[colour_index] == \"White\":\n",
    "                try:\n",
    "                    score += colours[colour_index + 1] == \"Green\"  \n",
    "                except IndexError:\n",
    "                    pass\n",
    "               \n",
    "        #6 The person using Redis programs in Java        \n",
    "        for gene in individual.chromosome:    \n",
    "            score += (gene[\"databases\"] == \"Redis\" and gene[\"languages\"] == \"Java\")\n",
    "        \n",
    "        #7 Cassandra is used in the yellow house\n",
    "        for gene in individual.chromosome:    \n",
    "            score += (gene[\"databases\"] == \"Cassandra\" and gene[\"colour\"] == \"Yellow\")   \n",
    "           \n",
    "        #8 Notepad++ is used in the middle house\n",
    "        score += individual.third_gene[\"editors\"] == \"Notepad++\"\n",
    "        \n",
    "        #9 The Developer lives in the first house\n",
    "        score += individual.first_gene[\"profession\"] == \"Developer\"\n",
    "        \n",
    "        #10 The person who uses HBase lives next door to the person who programs JavaScript   \n",
    "        for database_index in range(len(individual.chromosome)):\n",
    "            if individual.chromosome[database_index][\"databases\"] == \"HBase\":\n",
    "                try:\n",
    "                    score += individual.chromosome[database_index + 1][\"languages\"] == \"JavaScript\"                    \n",
    "                    if database_index - 1 >= 0:\n",
    "                        score += individual.chromosome[database_index - 1][\"languages\"] == \"JavaScript\"\n",
    "                except IndexError:\n",
    "                    pass        \n",
    "       \n",
    "        #11 The person using Cassandra is a neighbor of the person programming in C#   \n",
    "        for database_index2 in range(len(individual.chromosome)):\n",
    "            if individual.chromosome[database_index2][\"databases\"] == \"Cassandra\":\n",
    "                try:\n",
    "                    score += individual.chromosome[database_index2 + 1][\"languages\"] == \"C#\"\n",
    "                    if database_index2 -1 >= 0:\n",
    "                        score += individual.chromosome[database_index2 - 1][\"languages\"] == \"C#\"\n",
    "                except IndexError:\n",
    "                    pass    \n",
    "                \n",
    "        #12  The person using Neo4J uses Sublime Text\n",
    "        for gene in individual.chromosome:    \n",
    "            score += (gene[\"databases\"] == \"Neo4j\" and gene[\"editors\"] == \"Sublime_Text\")\n",
    "            \n",
    "        #13 The Engineer uses MongoDB\n",
    "        for gene in individual.chromosome:    \n",
    "            score += (gene[\"profession\"] == \"Engineer\" and gene[\"databases\"] == \"MongoDB\")\n",
    "            \n",
    "        #14 The developer lives in the blue house\n",
    "        for gene in individual.chromosome:    \n",
    "            score += (gene[\"profession\"] == \"Developer\" and gene[\"colour\"] == \"Blue\")\n",
    "            \n",
    "        return score\n",
    "    \n",
    "    def crossover(self,parents):\n",
    "        parent_x = parents[0]\n",
    "        parent_y = parents[1]\n",
    "        \n",
    "        if self.crossover_method == \"simple\":\n",
    "            cut_point = random.randint(0,self.chromosome_length)\n",
    "            child_a = Individual(parent_x.chromosome[:cut_point] + parent_y.chromosome[cut_point:])\n",
    "            child_b = Individual(parent_x.chromosome[cut_point:] + parent_y.chromosome[:cut_point])\n",
    "          \n",
    "        if self.crossover_method == \"Multi_Point_Crossover\":        \n",
    "            cut_points = sorted(random.sample(range(self.chromosome_length), 2))\n",
    "            child_a = Individual(parent_x.chromosome[:cut_points[0]] +  parent_y.chromosome[cut_points[0]:cut_points[1]]  +  parent_x.chromosome[cut_points[1]:]) \n",
    "            child_b = Individual(parent_y.chromosome[:cut_points[0]] +  parent_x.chromosome[cut_points[0]:cut_points[1]]  +  parent_y.chromosome[cut_points[1]:])     \n",
    "        \n",
    "        if self.crossover_method == \"Binomial_Mask_Crossover\":\n",
    "            boolean_mask = np.random.choice([True, False], size=5, p=[0.5, 0.5])\n",
    "            \n",
    "            chromosome_child_a = []\n",
    "            chromosome_child_b = []\n",
    "\n",
    "            for gene_index in range(self.chromosome_length):\n",
    "                if boolean_mask[gene_index] == True:\n",
    "                    chromosome_child_a.append(parent_y.chromosome[gene_index])\n",
    "                    chromosome_child_b.append(parent_x.chromosome[gene_index])\n",
    "                else:\n",
    "                    chromosome_child_a.append(parent_x.chromosome[gene_index])\n",
    "                    chromosome_child_b.append(parent_y.chromosome[gene_index])\n",
    "            child_a =  Individual(chromosome_child_a)    \n",
    "            child_b =  Individual(chromosome_child_b)    \n",
    "        \n",
    "        return [child_a,child_b]\n",
    "    \n",
    "            \n",
    "    def mutate():     \n",
    "        pass\n",
    "    \n",
    "    def fabricate_chromosome(self):\n",
    "        copied_attributes = copy.deepcopy(self.attributes)\n",
    "        chromosome = []\n",
    "        for gene_index in range(self.chromosome_length):\n",
    "            gene = {}            \n",
    "            for attribute in copied_attributes:\n",
    "                gene[attribute] = copied_attributes[attribute].pop(random.randrange(len(copied_attributes[attribute])))                                     \n",
    "            chromosome.append(gene)        \n",
    "        return chromosome     \n",
    "         \n",
    "    def score_population(self,population):\n",
    "        scored_population = {}\n",
    "        for individual in population:            \n",
    "            scored_population[individual] = self.aptitude_function(individual)\n",
    "        return scored_population\n",
    "    \n",
    "    def select(self,scored_population):    \n",
    "        selected_individuals = []        \n",
    "        sorted_population = sorted(scored_population.items(), key=lambda x:x[1],reverse=True)        \n",
    "        for parent_index in range(self.number_of_parents):\n",
    "            selected_individuals.append(sorted_population[parent_index][0])        \n",
    "        return selected_individuals\n",
    "    \n",
    "    def reproduce(): #uso los n mejores para generar 1 hijo con cada par de padres. si son impar el ultimo metele un padre random y fue\n",
    "        pass\n",
    "        \n",
    "    def generation_step():\n",
    "        pass #haces una iteracion hasta el self.population.  ordenas poblacion por score. sacas los m peores y agregas los m hijos\n",
    "    "
   ]
  },
  {
   "cell_type": "code",
   "execution_count": 4,
   "id": "186c13eb-7031-4c66-93fe-b2d3f8154fb6",
   "metadata": {
    "tags": []
   },
   "outputs": [],
   "source": [
    "algoritmo = GeneticAlgorithm(population_size = 20,number_of_parents = 2,crossover_method = \"Binomial_Mask_Crossover\")"
   ]
  },
  {
   "cell_type": "code",
   "execution_count": 5,
   "id": "7bb24a6a-df26-4daf-a6c6-65c304ecaaf7",
   "metadata": {
    "tags": []
   },
   "outputs": [],
   "source": [
    "scored_population = algoritmo.score_population(algoritmo.population)"
   ]
  },
  {
   "cell_type": "code",
   "execution_count": 6,
   "id": "4ed41840-8859-4ce8-acc8-8fde2d18b5b1",
   "metadata": {
    "tags": []
   },
   "outputs": [],
   "source": [
    "parents = algoritmo.select(scored_population)"
   ]
  },
  {
   "cell_type": "code",
   "execution_count": 7,
   "id": "e9d79949-dc3c-4dcf-89f3-f23179890018",
   "metadata": {
    "tags": []
   },
   "outputs": [],
   "source": [
    "hijos = algoritmo.crossover(parents)"
   ]
  },
  {
   "cell_type": "code",
   "execution_count": null,
   "id": "d0b1f162-24cd-4218-9ed9-5317e7a10102",
   "metadata": {},
   "outputs": [],
   "source": []
  },
  {
   "cell_type": "code",
   "execution_count": null,
   "id": "fa5a4d5d-4f35-4cc3-9b1a-92f2f7003bf7",
   "metadata": {},
   "outputs": [],
   "source": []
  },
  {
   "cell_type": "code",
   "execution_count": null,
   "id": "f65791d7-695d-41f3-9991-f26c6bf6c1c4",
   "metadata": {
    "tags": []
   },
   "outputs": [],
   "source": [
    "test_dict = {'Geeks': 2, 'for': 1, 'CS': 3}\n",
    " \n",
    "# printing original dictionary\n",
    "print(\"The original dictionary is : \" + str(test_dict))\n",
    " \n",
    "# sorting dictionary keys to list using map(), zip() and sorted()\n",
    "res = [elem for tup in sorted(zip(test_dict.keys(), test_dict.values())) for elem in tup]\n",
    " \n",
    "# printing result\n",
    "print(\"List after conversion from dictionary : \" + str(res))"
   ]
  },
  {
   "cell_type": "code",
   "execution_count": null,
   "id": "6ea54ee1-e90e-4887-825f-41b65d1ef582",
   "metadata": {},
   "outputs": [],
   "source": [
    "#creo algoritmo\n",
    "\n",
    "#creo population al azar\n",
    "\n",
    "#EN DONDE CREO CROMOSOMAS CREO QEU TENGO QUE HACERLO SIN REPLACEMENT. TIPO NO PUEDE HABER 2 MATEMATICOS https://stackoverflow.com/questions/51336835/how-to-select-items-from-a-list-based-on-probability\n",
    "\n",
    "#funcion aptitud evalua self population y actualizo por orden\n",
    "\n",
    "#elijo padres segun scores y probabilidades. aplica softmax a la population\n",
    "\n",
    "#hijos y padres aleatorios con crossover que el digo yo. eleji un par de padres asi tenes muchos hijos\n",
    "\n",
    "#muto. aca seria cambiar de lugar algun valor dentro del gen o mover de lugar algun gen\n",
    "\n",
    "#agrego hijos a poblacion\n",
    "\n",
    "#self population = reemplazo la cantidad que yo quiero de la poblacion. ponele 10, bueno meto los 10 hijos y vuelan los 10 hijos mas pedorros. hacelo por indice esto\n",
    "\n",
    "#paro en generaciones o si tengo los puntos maximos o si el maximo se quedo asi por x generaciones"
   ]
  },
  {
   "cell_type": "code",
   "execution_count": null,
   "id": "2c772805-40e9-4d7d-8bb3-132df6fabf8e",
   "metadata": {},
   "outputs": [],
   "source": []
  },
  {
   "cell_type": "code",
   "execution_count": null,
   "id": "23a60a56-c26c-4f38-8c2c-e15ef6de94c7",
   "metadata": {
    "tags": []
   },
   "outputs": [],
   "source": [
    "def softmax(x):   \n",
    "    e_x = np.exp(x - np.max(x))\n",
    "    return e_x / e_x.sum(axis=0) "
   ]
  },
  {
   "cell_type": "code",
   "execution_count": null,
   "id": "e799fdbe-186f-4433-85f5-0e635d4be88a",
   "metadata": {
    "tags": []
   },
   "outputs": [],
   "source": [
    "scores = np.array([9,9,5,3,2,0])"
   ]
  },
  {
   "cell_type": "code",
   "execution_count": null,
   "id": "fd508637-cc6d-43d9-902c-0192050f152d",
   "metadata": {
    "tags": []
   },
   "outputs": [],
   "source": [
    "softmax(scores)"
   ]
  },
  {
   "cell_type": "code",
   "execution_count": null,
   "id": "b6d774aa-a95c-4236-a3fb-3a91e5444409",
   "metadata": {},
   "outputs": [],
   "source": [
    "funciones:\n",
    "    create initial population\n",
    "    aptitude function\n",
    "    select parents\n",
    "    crossover\n",
    "    mutate\n",
    "    "
   ]
  }
 ],
 "metadata": {
  "kernelspec": {
   "display_name": "Python 3 (ipykernel)",
   "language": "python",
   "name": "python3"
  },
  "language_info": {
   "codemirror_mode": {
    "name": "ipython",
    "version": 3
   },
   "file_extension": ".py",
   "mimetype": "text/x-python",
   "name": "python",
   "nbconvert_exporter": "python",
   "pygments_lexer": "ipython3",
   "version": "3.8.16"
  }
 },
 "nbformat": 4,
 "nbformat_minor": 5
}
