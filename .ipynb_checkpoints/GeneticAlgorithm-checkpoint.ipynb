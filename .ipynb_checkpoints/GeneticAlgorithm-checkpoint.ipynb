{
 "cells": [
  {
   "cell_type": "code",
   "execution_count": null,
   "id": "11628616-380c-4155-94d0-571829adf69f",
   "metadata": {},
   "outputs": [],
   "source": [
    "#en la seleccion de padres pone probabilidad de elejir segun la funcio nde aptitud\n",
    "# usa todos los operadores. desp ves con cual te qeudas\n",
    "#al final evaluas la ultima poblacion y te quedas con el individuo con mas aptitud"
   ]
  }
 ],
 "metadata": {
  "kernelspec": {
   "display_name": "Python 3 (ipykernel)",
   "language": "python",
   "name": "python3"
  },
  "language_info": {
   "codemirror_mode": {
    "name": "ipython",
    "version": 3
   },
   "file_extension": ".py",
   "mimetype": "text/x-python",
   "name": "python",
   "nbconvert_exporter": "python",
   "pygments_lexer": "ipython3",
   "version": "3.8.16"
  }
 },
 "nbformat": 4,
 "nbformat_minor": 5
}
