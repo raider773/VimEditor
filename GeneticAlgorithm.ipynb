{
 "cells": [
  {
   "cell_type": "code",
   "execution_count": 1,
   "id": "663d2686-6322-4802-8974-ce1ab0bf43fa",
   "metadata": {
    "tags": []
   },
   "outputs": [],
   "source": [
    "import numpy as np\n",
    "import random\n",
    "import copy\n",
    "import uuid\n",
    "from time import sleep\n",
    "from tqdm import tqdm"
   ]
  },
  {
   "cell_type": "code",
   "execution_count": 2,
   "id": "92c6cd0c-60c6-4104-b22d-fefcb5890c58",
   "metadata": {},
   "outputs": [],
   "source": [
    "class Individual():    \n",
    "    def __init__(self,chromosome):   \n",
    "        self.chromosome = chromosome"
   ]
  },
  {
   "cell_type": "code",
   "execution_count": 3,
   "id": "34478b39-d02f-4751-ad28-4b71906dda52",
   "metadata": {},
   "outputs": [],
   "source": [
    "class GeneticAlgorithm():\n",
    "    def __init__(self,generations = 100,population_size = 100,number_of_parents = 20,crossover_method = \"simple\",thr_explore = 0.1,thr_greedy = 0.9,gene_mutation_percentage = 0.2,attribute_mutation_percentage = 0.3,attribute_mutation_quantity = 5):\n",
    "        self.chromosome_length = 5\n",
    "        self.attributes = {\"colour\":[\"Red\",\"Yellow\",\"Blue\",\"White\",\"Green\"],\n",
    "                          \"profession\":['Mathematician', 'Hacker', 'Analyst', 'Developer', 'Engineer'],\n",
    "                          \"languages\" : ['Python', 'Java', 'JavaScript', 'C#', 'Other'],\n",
    "                          \"NoSQL\" : ['Redis', 'MongoDB', 'HBase', 'Cassandra', 'Neo4J'],\n",
    "                          \"editors\" : ['Vim', 'Brackets', 'Atom', 'Notepad++', 'Sublime_Text']\n",
    "                          }          \n",
    "        self.generations = generations\n",
    "        self.population_size = population_size        \n",
    "        self.population = self.create_initial_population()           \n",
    "        self.number_of_parents = number_of_parents\n",
    "        self.gene_mutation_percentage = gene_mutation_percentage\n",
    "        self.attribute_mutation_percentage = attribute_mutation_percentage\n",
    "        self.attribute_mutation_quantity = attribute_mutation_quantity\n",
    "        if self.number_of_parents > self.population_size:\n",
    "            print(f\"number of parents cant be greater than population. Using population_size/2 as number of parents: {self.population_size/2}\")\n",
    "            self.number_of_parents = self.population_size/2            \n",
    "        if (self.number_of_parents % 2) != 0:\n",
    "            print(f\"Number of parents is odd. Using number of parents {self.number_of_parents + 1}\")\n",
    "            self.number_of_parents =  self.number_of_parents + 1\n",
    "        else:        \n",
    "            self.number_of_parents =  self.number_of_parents    \n",
    "            \n",
    "        self.number_of_parents = int(self.number_of_parents)\n",
    "        \n",
    "        self.crossover_method = crossover_method\n",
    "        self.explore_generation = round(thr_explore * self.generations)\n",
    "        self.greedy_generation = round(thr_greedy * self.generations)\n",
    "        \n",
    "        self.best_individual = None\n",
    "        \n",
    "    def create_initial_population(self):\n",
    "        population = []\n",
    "        for n in range(self.population_size):\n",
    "            chromosome = self.fabricate_chromosome()\n",
    "            population.append(Individual(chromosome))\n",
    "        return population\n",
    "    \n",
    "    def aptitude_function(self,individual):        \n",
    "        score = 0\n",
    "        \n",
    "        #1 The Mathematician lives in the red house\n",
    "        for gene in individual.chromosome:    \n",
    "            score += gene[\"profession\"] == \"Mathematician\" and gene[\"colour\"] == \"Red\"    \n",
    "        \n",
    "        #2 The hacker programs in Python\n",
    "        for gene in individual.chromosome:    \n",
    "            score += (gene[\"profession\"] == \"Hacker\" and gene[\"languages\"] == \"Python\")\n",
    "            \n",
    "        #3 The Brackets is used in the green house\n",
    "        for gene in individual.chromosome:    \n",
    "            score += (gene[\"editors\"] == \"Brackets\" and gene[\"colour\"] == \"Green\")\n",
    "            \n",
    "        #4 The analyst uses Atom\n",
    "        for gene in individual.chromosome:    \n",
    "            score += (gene[\"profession\"] == \"Analyst\" and gene[\"editors\"] == \"Atom\")\n",
    "        \n",
    "        #5 The green house is to the right of the white house\n",
    "        colours = [i[\"colour\"] for i in individual.chromosome]  \n",
    "        for colour_index in range(len(colours)):\n",
    "            if colours[colour_index] == \"White\":\n",
    "                try:\n",
    "                    score += colours[colour_index + 1] == \"Green\"  \n",
    "                    \n",
    "                except IndexError:\n",
    "                    pass\n",
    "               \n",
    "        #6 The person using Redis programs in Java        \n",
    "        for gene in individual.chromosome:    \n",
    "            score += (gene[\"NoSQL\"] == \"Redis\" and gene[\"languages\"] == \"Java\")\n",
    "        \n",
    "        #7 Cassandra is used in the yellow house\n",
    "        for gene in individual.chromosome:    \n",
    "            score += (gene[\"NoSQL\"] == \"Cassandra\" and gene[\"colour\"] == \"Yellow\")  \n",
    "            \n",
    "        #8 Notepad++ is used in the middle house        \n",
    "        score += individual.chromosome[2][\"editors\"] == \"Notepad++\"   #no hardcodear el medio\n",
    "        \n",
    "        #9 The Developer lives in the first house\n",
    "        score += individual.chromosome[0][\"profession\"] == \"Developer\"\n",
    "       \n",
    "        #10 The person who uses HBase lives next door to the person who programs JavaScript   \n",
    "        for database_index in range(len(individual.chromosome)):\n",
    "            if individual.chromosome[database_index][\"NoSQL\"] == \"HBase\":\n",
    "                try:\n",
    "                    score += individual.chromosome[database_index + 1][\"languages\"] == \"JavaScript\"                    \n",
    "                    if database_index - 1 >= 0:\n",
    "                        score += individual.chromosome[database_index - 1][\"languages\"] == \"JavaScript\"\n",
    "                except IndexError:\n",
    "                    pass        \n",
    "       \n",
    "        #11 The person using Cassandra is a neighbor of the person programming in C#   \n",
    "        for database_index2 in range(len(individual.chromosome)):\n",
    "            if individual.chromosome[database_index2][\"NoSQL\"] == \"Cassandra\":\n",
    "                try:\n",
    "                    score += individual.chromosome[database_index2 + 1][\"languages\"] == \"C#\"\n",
    "                    if database_index2 -1 >= 0:\n",
    "                        score += individual.chromosome[database_index2 - 1][\"languages\"] == \"C#\"\n",
    "                except IndexError:\n",
    "                    pass    \n",
    "                        \n",
    "        #12  The person using Neo4J uses Sublime Text\n",
    "        for gene in individual.chromosome:    \n",
    "            score += (gene[\"NoSQL\"] == \"Neo4j\" and gene[\"editors\"] == \"Sublime_Text\")       \n",
    "        \n",
    "        #13 The Engineer uses MongoDB\n",
    "        for gene in individual.chromosome:    \n",
    "            score += (gene[\"profession\"] == \"Engineer\" and gene[\"NoSQL\"] == \"MongoDB\")\n",
    "     \n",
    "        \n",
    "        #14 The developer lives in the blue house\n",
    "        for gene in individual.chromosome:    \n",
    "            score += (gene[\"profession\"] == \"Developer\" and gene[\"colour\"] == \"Blue\")    \n",
    "        \n",
    "        #15 Repeated attributes set score to 0\n",
    "        colour = []\n",
    "        profession = []\n",
    "        languages = []\n",
    "        NoSQL = []\n",
    "        editors = []\n",
    "\n",
    "        for gene in individual.chromosome:\n",
    "            colour.append(gene[\"colour\"])\n",
    "            profession.append(gene[\"profession\"])\n",
    "            languages.append(gene[\"languages\"])\n",
    "            NoSQL.append(gene[\"NoSQL\"])\n",
    "            editors.append(gene[\"editors\"])\n",
    "        all_attributes = [colour,profession,languages,NoSQL,editors]        \n",
    "        \n",
    "        if any([len(lst) != len(set(lst)) for lst in all_attributes]):           \n",
    "            score = 0\n",
    "            \n",
    "        return score\n",
    "    \n",
    "    def crossover(self,parents):\n",
    "        parent_x = parents[0]\n",
    "        parent_y = parents[1]\n",
    "        \n",
    "        if self.crossover_method == \"simple\":\n",
    "            cut_point = random.randint(0,self.chromosome_length)\n",
    "            chromosome_child_a = parent_x.chromosome[:cut_point] + parent_y.chromosome[cut_point:]\n",
    "            chromosome_child_b = parent_x.chromosome[cut_point:] + parent_y.chromosome[:cut_point]\n",
    "          \n",
    "        if self.crossover_method == \"Multi_Point_Crossover\":        \n",
    "            cut_points = sorted(random.sample(range(self.chromosome_length), 2))\n",
    "            chromosome_child_a = parent_x.chromosome[:cut_points[0]] +  parent_y.chromosome[cut_points[0]:cut_points[1]]  +  parent_x.chromosome[cut_points[1]:]\n",
    "            chromosome_child_b = parent_y.chromosome[:cut_points[0]] +  parent_x.chromosome[cut_points[0]:cut_points[1]]  +  parent_y.chromosome[cut_points[1]:]  \n",
    "        \n",
    "        if self.crossover_method == \"Binomial_Mask_Crossover\":\n",
    "            boolean_mask = np.random.choice([True, False], size=self.chromosome_length, p=[0.5, 0.5])\n",
    "            \n",
    "            chromosome_child_a = []\n",
    "            chromosome_child_b = []\n",
    "\n",
    "            for gene_index in range(self.chromosome_length):\n",
    "                if boolean_mask[gene_index] == True:\n",
    "                    chromosome_child_a.append(parent_y.chromosome[gene_index])\n",
    "                    chromosome_child_b.append(parent_x.chromosome[gene_index])\n",
    "                else:\n",
    "                    chromosome_child_a.append(parent_x.chromosome[gene_index])\n",
    "                    chromosome_child_b.append(parent_y.chromosome[gene_index])\n",
    "                    \n",
    "        child_a = Individual(chromosome_child_a)\n",
    "        child_b = Individual(chromosome_child_b)         \n",
    "        \n",
    "        return [child_a,child_b]            \n",
    "    \n",
    "    def fabricate_chromosome(self):\n",
    "        copied_attributes = copy.deepcopy(self.attributes)\n",
    "        chromosome = []\n",
    "        for gene_index in range(self.chromosome_length):\n",
    "            gene = {}            \n",
    "            for attribute in copied_attributes:\n",
    "                gene[attribute] = copied_attributes[attribute].pop(random.randrange(len(copied_attributes[attribute])))                                     \n",
    "            chromosome.append(gene)        \n",
    "        return chromosome     \n",
    "         \n",
    "    def score_population(self,population):\n",
    "        scored_population = {}\n",
    "        for individual in population:            \n",
    "            scored_population[individual] = self.aptitude_function(individual)\n",
    "        return scored_population\n",
    "    \n",
    "    def select(self,scored_population,current_generation):    \n",
    "        selected_individuals = []    \n",
    "\n",
    "        if current_generation <= self.explore_generation:       \n",
    "            for parent_index in range(self.number_of_parents):\n",
    "                selected_individuals.append(random.choice(list(scored_population.keys()))) \n",
    "\n",
    "        elif current_generation > self.explore_generation and current_generation < self.greedy_generation:\n",
    "            values = np.array(list(scored_population.values()))\n",
    "            max_value = np.max(values)\n",
    "            probabilities = np.exp(values - max_value) / np.sum(np.exp(values - max_value))\n",
    "            for parent_index in range(self.number_of_parents):\n",
    "                sampled_object = np.random.choice(list(scored_population.keys()), p=probabilities, replace=False)\n",
    "                selected_individuals.append(sampled_object)  \n",
    "\n",
    "        elif current_generation >= self.greedy_generation:    \n",
    "            sorted_population = sorted(scored_population.items(), key=lambda x:x[1],reverse=True)        \n",
    "            for parent_index in range(self.number_of_parents):\n",
    "                selected_individuals.append(sorted_population[parent_index][0]) \n",
    "\n",
    "        return  selected_individuals \n",
    "    \n",
    "    \n",
    "    def mutate_individual_attributes(self,individual):        \n",
    "        for mutation in range(self.attribute_mutation_quantity):\n",
    "            attributes = list(self.attributes.keys())\n",
    "            mutation_attribute = random.choice(attributes)\n",
    "            mutation_gene1 = random.randint(0,self.chromosome_length - 1)\n",
    "            mutation_gene2 = random.randint(0,self.chromosome_length - 1)\n",
    "            while mutation_gene1 == mutation_gene2:\n",
    "                mutation_gene2 = random.randint(0,self.chromosome_length - 1)    \n",
    "\n",
    "            attribute_1 = individual.chromosome[mutation_gene1][mutation_attribute]\n",
    "            attribute_2 = individual.chromosome[mutation_gene2][mutation_attribute]\n",
    "\n",
    "            individual.chromosome[mutation_gene1][mutation_attribute] = attribute_2\n",
    "            individual.chromosome[mutation_gene2][mutation_attribute] = attribute_1   \n",
    "            \n",
    "            \n",
    "    def mutate_individual_gene(self,individual):        \n",
    "        mutation_gene1 = random.randint(0,self.chromosome_length - 1)\n",
    "        mutation_gene2 = random.randint(0,self.chromosome_length - 1)\n",
    "        aux = individual.chromosome[mutation_gene1]\n",
    "        individual.chromosome[mutation_gene1] = individual.chromosome[mutation_gene2]\n",
    "        individual.chromosome[mutation_gene2] = aux         \n",
    "    \n",
    "    def mutate(self, population):\n",
    "        mutated_population = []\n",
    "\n",
    "        gene_individuals_to_mutate = int(len(population) * self.gene_mutation_percentage)\n",
    "        attribute_individuals_to_mutate = int(len(population) * self.attribute_mutation_percentage)\n",
    "\n",
    "      \n",
    "        for individual in population[:gene_individuals_to_mutate]:\n",
    "            mutated_individual = copy.deepcopy(individual)\n",
    "            self.mutate_individual_gene(mutated_individual)\n",
    "            mutated_population.append(mutated_individual)\n",
    "\n",
    "      \n",
    "        for individual in population[gene_individuals_to_mutate:(gene_individuals_to_mutate + attribute_individuals_to_mutate)]:\n",
    "            mutated_individual = copy.deepcopy(individual)\n",
    "            self.mutate_individual_attributes(mutated_individual)\n",
    "            mutated_population.append(mutated_individual)\n",
    "       \n",
    "        mutated_population += population[(gene_individuals_to_mutate + attribute_individuals_to_mutate):]\n",
    "\n",
    "        return mutated_population\n",
    "\n",
    "    \n",
    "    def reproduce(self,selected_individuals): \n",
    "        children = []\n",
    "        parents_pairs = [selected_individuals[i:i + 2] for i in range(0, len(selected_individuals), 2)]\n",
    "        for pair in parents_pairs:\n",
    "            children += self.crossover(pair)\n",
    "        return children\n",
    "        \n",
    "    def generation_step(self, current_generation):\n",
    "        scored_population = self.score_population(self.population)\n",
    "        parents = self.select(scored_population, current_generation)\n",
    "        children = self.reproduce(parents)\n",
    "        sorted_population = sorted(scored_population.items(), key=lambda x: x[1])\n",
    "        self.best_individual = sorted_population[0]\n",
    "        filtered_population = [i[0] for i in sorted_population[len(children):]]\n",
    "        self.population = self.mutate(filtered_population + children)\n",
    "        \n",
    "    def generate_x_steps(self):\n",
    "        for i in tqdm(range(self.generations)):\n",
    "            self.generation_step(current_generation = i)   "
   ]
  },
  {
   "cell_type": "code",
   "execution_count": 4,
   "id": "b214f82b-3a8e-40c4-86ba-f39d4cec8dd8",
   "metadata": {},
   "outputs": [],
   "source": [
    "# 300  1000  300, 5 attributes, 0.4 gnr 0.2 el otro los 2 mutation"
   ]
  },
  {
   "cell_type": "code",
   "execution_count": 5,
   "id": "879ed311-1f3a-4f6d-91ad-9a0b5c2835bf",
   "metadata": {},
   "outputs": [],
   "source": [
    "algoritmo =  GeneticAlgorithm(generations = 300,population_size = 1000,number_of_parents = 300,crossover_method = \"Binomial_Mask_Crossover\",thr_explore = 0.1,thr_greedy = 0.7, gene_mutation_percentage = 0.2,attribute_mutation_percentage = 0.2,attribute_mutation_quantity = 5)"
   ]
  },
  {
   "cell_type": "code",
   "execution_count": 6,
   "id": "3c9b8679-ec7e-4d7d-ab27-594ee51cfb80",
   "metadata": {
    "tags": []
   },
   "outputs": [
    {
     "data": {
      "text/plain": [
       "30"
      ]
     },
     "execution_count": 6,
     "metadata": {},
     "output_type": "execute_result"
    }
   ],
   "source": [
    "algoritmo.explore_generation"
   ]
  },
  {
   "cell_type": "code",
   "execution_count": 7,
   "id": "c660bf52-a345-4078-914f-d53b268fea8b",
   "metadata": {
    "tags": []
   },
   "outputs": [
    {
     "data": {
      "text/plain": [
       "210"
      ]
     },
     "execution_count": 7,
     "metadata": {},
     "output_type": "execute_result"
    }
   ],
   "source": [
    "algoritmo.greedy_generation"
   ]
  },
  {
   "cell_type": "code",
   "execution_count": 8,
   "id": "d30bb6cb-4ace-492c-b6be-d96258637bc6",
   "metadata": {
    "tags": []
   },
   "outputs": [
    {
     "name": "stderr",
     "output_type": "stream",
     "text": [
      "100%|██████████| 300/300 [00:54<00:00,  5.46it/s]\n"
     ]
    }
   ],
   "source": [
    "algoritmo.generate_x_steps()"
   ]
  },
  {
   "cell_type": "code",
   "execution_count": 9,
   "id": "b327e912-55d9-4cdb-be5d-6a9922df4e2f",
   "metadata": {
    "tags": []
   },
   "outputs": [],
   "source": [
    "population = sorted(algoritmo.score_population(algoritmo.population).items(), key=lambda x:x[1],reverse=True)"
   ]
  },
  {
   "cell_type": "code",
   "execution_count": 10,
   "id": "ae616898-9f49-41fa-ab2d-fe0fc575a6d2",
   "metadata": {},
   "outputs": [
    {
     "name": "stdout",
     "output_type": "stream",
     "text": [
      "{'Mathematician': 635}\n"
     ]
    }
   ],
   "source": [
    "# Assuming you have the original list of individuals and their scores stored in a variable called 'population'\n",
    "\n",
    "# Find the individuals with the maximum score\n",
    "max_score = max([score for _, score in population])\n",
    "best_individuals = [individual for individual, score in population if score == max_score]\n",
    "\n",
    "# Count the number of occurrences of each profession that used Vim\n",
    "profession_count = {}\n",
    "for individual in best_individuals:\n",
    "    chromosome = individual.chromosome  # Access the chromosome of the Individual object\n",
    "    for gene in chromosome:\n",
    "        profession = gene['profession']\n",
    "        editor = gene['editors']\n",
    "        if editor == 'Vim':\n",
    "            profession_count[profession] = profession_count.get(profession, 0) + 1\n",
    "\n",
    "print(profession_count)"
   ]
  },
  {
   "cell_type": "code",
   "execution_count": 11,
   "id": "24f9e909-97aa-4b13-afce-214c4cfd7700",
   "metadata": {},
   "outputs": [
    {
     "data": {
      "text/plain": [
       "13"
      ]
     },
     "execution_count": 11,
     "metadata": {},
     "output_type": "execute_result"
    }
   ],
   "source": [
    "max_score"
   ]
  },
  {
   "cell_type": "code",
   "execution_count": 12,
   "id": "3abd9792-7ee8-499b-8847-170d18418cb9",
   "metadata": {
    "tags": []
   },
   "outputs": [],
   "source": [
    "individual = population[0][0]"
   ]
  },
  {
   "cell_type": "code",
   "execution_count": 13,
   "id": "8ff0ed79-70dc-469e-92de-f1dfc2756518",
   "metadata": {
    "tags": []
   },
   "outputs": [
    {
     "data": {
      "text/plain": [
       "[{'colour': 'Blue',\n",
       "  'profession': 'Developer',\n",
       "  'languages': 'JavaScript',\n",
       "  'NoSQL': 'Neo4J',\n",
       "  'editors': 'Sublime_Text'},\n",
       " {'colour': 'Red',\n",
       "  'profession': 'Mathematician',\n",
       "  'languages': 'C#',\n",
       "  'NoSQL': 'HBase',\n",
       "  'editors': 'Vim'},\n",
       " {'colour': 'Yellow',\n",
       "  'profession': 'Hacker',\n",
       "  'languages': 'Python',\n",
       "  'NoSQL': 'Cassandra',\n",
       "  'editors': 'Notepad++'},\n",
       " {'colour': 'White',\n",
       "  'profession': 'Analyst',\n",
       "  'languages': 'Java',\n",
       "  'NoSQL': 'Redis',\n",
       "  'editors': 'Atom'},\n",
       " {'colour': 'Green',\n",
       "  'profession': 'Engineer',\n",
       "  'languages': 'Other',\n",
       "  'NoSQL': 'MongoDB',\n",
       "  'editors': 'Brackets'}]"
      ]
     },
     "execution_count": 13,
     "metadata": {},
     "output_type": "execute_result"
    }
   ],
   "source": [
    "individual.chromosome"
   ]
  },
  {
   "cell_type": "code",
   "execution_count": null,
   "id": "9a2816c9-8a0e-49fd-8d68-27761d8ea0e8",
   "metadata": {},
   "outputs": [],
   "source": [
    "2. The Mathematician lives in the red house.  #\n",
    "3. The hacker programs in Python. #\n",
    "4. The Brackets is used in the green house. #\n",
    "5. The analyst uses Atom. #\n",
    "6. The green house is to the right of the white house. \n",
    "7. The person using Redis programs in Java. \n",
    "8. Cassandra is used in the yellow house. \n",
    "9. Notepad++ is used in the middle house.\n",
    "10. The Developer lives in the first house. \n",
    "11. The person who uses HBase lives next door to the person who programs JavaScript. \n",
    "12. The person using Cassandra is a neighbor of the person programming in C \n",
    "13. The person using Neo4J uses Sublime Text. \n",
    "14. The Engineer uses MongoDB. \n",
    "15. The developer lives in the blue house."
   ]
  },
  {
   "cell_type": "code",
   "execution_count": null,
   "id": "c9d54334-7248-4fb1-8238-378e65264f89",
   "metadata": {},
   "outputs": [],
   "source": []
  },
  {
   "cell_type": "code",
   "execution_count": null,
   "id": "d7c30389-329a-4dd7-9fdf-46dd50d9fd46",
   "metadata": {},
   "outputs": [],
   "source": [
    "colour = []\n",
    "profession = []\n",
    "languages = []\n",
    "NoSQL = []\n",
    "editors = []\n",
    "\n",
    "for gene in algoritmo.population[0].chromosome:\n",
    "    colour.append(gene[\"colour\"])\n",
    "    profession.append(gene[\"profession\"])\n",
    "    languages.append(gene[\"languages\"])\n",
    "    NoSQL.append(gene[\"NoSQL\"])\n",
    "    editors.append(gene[\"editors\"])\n",
    "all_attributes = [colour,profession,languages,NoSQL,editors]\n"
   ]
  },
  {
   "cell_type": "code",
   "execution_count": null,
   "id": "b6565144-9bbb-4e1a-a840-8255e5a9c5b2",
   "metadata": {
    "tags": []
   },
   "outputs": [],
   "source": [
    "[len(lst) != len(set(lst)) for lst in all_attributes]"
   ]
  },
  {
   "cell_type": "code",
   "execution_count": null,
   "id": "8d5a633b-562a-4dff-83b3-f27e942dba3d",
   "metadata": {
    "tags": []
   },
   "outputs": [],
   "source": [
    "all_attributes"
   ]
  },
  {
   "cell_type": "code",
   "execution_count": null,
   "id": "3f252626-abfd-4cd1-988f-7ae094fd0b17",
   "metadata": {},
   "outputs": [],
   "source": []
  },
  {
   "cell_type": "code",
   "execution_count": null,
   "id": "7c64886f-f6e5-4bd4-9c5a-e6d841340ac4",
   "metadata": {},
   "outputs": [],
   "source": [
    "#el mutate. proba de mutar gene entero o cambiar de lugar artributos. ahora son unicos asi que podes cambiar la cantidad que quieras y donde quierasaw"
   ]
  },
  {
   "cell_type": "code",
   "execution_count": null,
   "id": "4c9bed40-3bde-465f-b544-ca752a75d8e6",
   "metadata": {},
   "outputs": [],
   "source": []
  },
  {
   "cell_type": "code",
   "execution_count": null,
   "id": "9abc855f-c3ce-4f89-8411-a21bc3a67f1b",
   "metadata": {},
   "outputs": [],
   "source": []
  },
  {
   "cell_type": "code",
   "execution_count": null,
   "id": "2c772805-40e9-4d7d-8bb3-132df6fabf8e",
   "metadata": {},
   "outputs": [],
   "source": [
    "#softmax en seleccion. pone thr de elegir al azar en uniforme,softmax,el que tens ahora que es el maximo\n",
    "#mutacion\n",
    "#lo de atributo unicos??? a ver si funciona\n",
    "#puntos de corte. genraciones, x cantidad de maximos scores, mismo score en x generaciones"
   ]
  }
 ],
 "metadata": {
  "kernelspec": {
   "display_name": "Python 3 (ipykernel)",
   "language": "python",
   "name": "python3"
  },
  "language_info": {
   "codemirror_mode": {
    "name": "ipython",
    "version": 3
   },
   "file_extension": ".py",
   "mimetype": "text/x-python",
   "name": "python",
   "nbconvert_exporter": "python",
   "pygments_lexer": "ipython3",
   "version": "3.8.16"
  }
 },
 "nbformat": 4,
 "nbformat_minor": 5
}
