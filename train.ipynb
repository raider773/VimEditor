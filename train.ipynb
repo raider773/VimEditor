{
 "cells": [
  {
   "cell_type": "code",
   "execution_count": 1,
   "id": "7fa7d2c7-038a-48c1-8f2a-6a9cca885c7c",
   "metadata": {
    "tags": []
   },
   "outputs": [],
   "source": [
    "from geneticAlgorithm import VimGeneticAlgorithm\n",
    "from utils import get_vim_editor_answer"
   ]
  },
  {
   "cell_type": "code",
   "execution_count": 2,
   "id": "879ed311-1f3a-4f6d-91ad-9a0b5c2835bf",
   "metadata": {},
   "outputs": [],
   "source": [
    "estimator = VimGeneticAlgorithm(population_size = 1000,number_of_parents = 300,crossover_method = \"Binomial_Mask_Crossover\",thr_explore = 0.1,thr_greedy = 0.7, gene_mutation_percentage = 0.2,attribute_mutation_percentage = 0.2,attribute_mutation_quantity = 5)"
   ]
  },
  {
   "cell_type": "code",
   "execution_count": 3,
   "id": "d30bb6cb-4ace-492c-b6be-d96258637bc6",
   "metadata": {
    "tags": []
   },
   "outputs": [
    {
     "name": "stderr",
     "output_type": "stream",
     "text": [
      " 10%|█         | 1049/10000 [01:00<08:40, 17.20it/s]"
     ]
    },
    {
     "name": "stdout",
     "output_type": "stream",
     "text": [
      "Reached cut condition\n",
      "Amount of individuals with max score: 526\n"
     ]
    },
    {
     "name": "stderr",
     "output_type": "stream",
     "text": [
      "\n"
     ]
    }
   ],
   "source": [
    "estimator.fit(generations = 10000,cut_thr = 0.5)"
   ]
  },
  {
   "cell_type": "code",
   "execution_count": 4,
   "id": "b327e912-55d9-4cdb-be5d-6a9922df4e2f",
   "metadata": {
    "tags": []
   },
   "outputs": [],
   "source": [
    "max_score,best_individuals = estimator.get_best_score_and_individuals()"
   ]
  },
  {
   "cell_type": "code",
   "execution_count": 5,
   "id": "b17c9703-1f3e-4119-be88-9ce85bc2729d",
   "metadata": {
    "tags": []
   },
   "outputs": [],
   "source": [
    "answer = get_vim_editor_answer(max_score,best_individuals)"
   ]
  },
  {
   "cell_type": "code",
   "execution_count": 6,
   "id": "942b803a-6206-468a-9e56-53c555e1c7bb",
   "metadata": {
    "tags": []
   },
   "outputs": [
    {
     "data": {
      "text/plain": [
       "{'Developer': 526}"
      ]
     },
     "execution_count": 6,
     "metadata": {},
     "output_type": "execute_result"
    }
   ],
   "source": [
    "answer"
   ]
  }
 ],
 "metadata": {
  "kernelspec": {
   "display_name": "Python 3 (ipykernel)",
   "language": "python",
   "name": "python3"
  },
  "language_info": {
   "codemirror_mode": {
    "name": "ipython",
    "version": 3
   },
   "file_extension": ".py",
   "mimetype": "text/x-python",
   "name": "python",
   "nbconvert_exporter": "python",
   "pygments_lexer": "ipython3",
   "version": "3.8.16"
  }
 },
 "nbformat": 4,
 "nbformat_minor": 5
}
